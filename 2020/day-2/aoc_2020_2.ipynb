{
 "metadata": {
  "language_info": {
   "codemirror_mode": {
    "name": "ipython",
    "version": 3
   },
   "file_extension": ".py",
   "mimetype": "text/x-python",
   "name": "python",
   "nbconvert_exporter": "python",
   "pygments_lexer": "ipython3",
   "version": "3.8.5-final"
  },
  "orig_nbformat": 2,
  "kernelspec": {
   "name": "python3",
   "display_name": "Python 3"
  }
 },
 "nbformat": 4,
 "nbformat_minor": 2,
 "cells": [
  {
   "source": [
    "# Day 2"
   ],
   "cell_type": "markdown",
   "metadata": {}
  },
  {
   "source": [
    "## Part 1"
   ],
   "cell_type": "markdown",
   "metadata": {}
  },
  {
   "source": [
    "### Algorithm testing"
   ],
   "cell_type": "markdown",
   "metadata": {}
  },
  {
   "cell_type": "code",
   "execution_count": 16,
   "metadata": {},
   "outputs": [
    {
     "output_type": "stream",
     "name": "stdout",
     "text": [
      "[['9', '10', 'm', 'mmmmnxmmmwm'], ['6', '8', 'w', 'wpwwhxnv'], ['4', '6', 'n', 'trwpnnnvq'], ['12', '15', 'p', 'zfpmpphpgghpppppppp'], ['5', '10', 'z', 'bqlbzfzzzbzwsz']]\n"
     ]
    }
   ],
   "source": [
    "# Prepping inputs\n",
    "inputs = [word.strip('\\n').split(',') for word in open(\"inputs.text\", 'r').readlines()]\n",
    "\n",
    "print(inputs[0:5])"
   ]
  },
  {
   "cell_type": "code",
   "execution_count": 15,
   "metadata": {},
   "outputs": [
    {
     "output_type": "stream",
     "name": "stdout",
     "text": [
      "2\n"
     ]
    }
   ],
   "source": [
    "test_input = [\n",
    "    [1,3, 'a', 'abcde'],\n",
    "[1,3, 'b', 'cdefg'],\n",
    "[2,9, 'c', 'ccccccccc']\n",
    "]\n",
    "\n",
    "valid_passwords = 0\n",
    "\n",
    "# iterate through each password\n",
    "for password in test_input:\n",
    "    # for each password, identify the designated letter\n",
    "    letter = password[2]\n",
    "    # ientify the minimum number of times the given letter should occur\n",
    "    letter_min = password[0]\n",
    "    letter_max = password[1]\n",
    "    # identify the password\n",
    "    password = password[3]\n",
    "    letter_couter = 0\n",
    "\n",
    "    # check if the given letter appears the designated number of times\n",
    "    if password.count(letter) >= letter_min and password.count(letter) <= letter_max:\n",
    "        valid_passwords += 1\n",
    "\n",
    "print(valid_passwords)"
   ]
  },
  {
   "source": [
    "### Part 1 Solve"
   ],
   "cell_type": "markdown",
   "metadata": {}
  },
  {
   "cell_type": "code",
   "execution_count": 19,
   "metadata": {},
   "outputs": [
    {
     "output_type": "stream",
     "name": "stdout",
     "text": [
      "469\n"
     ]
    }
   ],
   "source": [
    "valid_passwords = 0\n",
    "\n",
    "# iterate through each password\n",
    "for password in inputs:\n",
    "    # for each password, identify the designated letter\n",
    "    letter = password[2]\n",
    "    # ientify the minimum number of times the given letter should occur\n",
    "    letter_min = int(password[0])\n",
    "    letter_max = int(password[1])\n",
    "    # identify the password\n",
    "    password = password[3]\n",
    "    letter_couter = 0\n",
    "\n",
    "    # check if the given letter appears the designated number of times\n",
    "    if password.count(letter) >= letter_min and password.count(letter) <= letter_max:\n",
    "        valid_passwords += 1\n",
    "\n",
    "print(valid_passwords)"
   ]
  },
  {
   "source": [
    "---"
   ],
   "cell_type": "markdown",
   "metadata": {}
  },
  {
   "source": [
    "## Part 2\n",
    "Algorithm testing..."
   ],
   "cell_type": "markdown",
   "metadata": {}
  },
  {
   "cell_type": "code",
   "execution_count": 26,
   "metadata": {},
   "outputs": [
    {
     "output_type": "stream",
     "name": "stdout",
     "text": [
      "a c 1\nc e 1\nc c 1\n"
     ]
    }
   ],
   "source": [
    "# ['1', '3', 'a', 'abcde']\n",
    "\n",
    "valid_passwords_2 = 0\n",
    "\n",
    "for entry in test_input:\n",
    "    first_position = entry[0]\n",
    "    second_position = entry[1]\n",
    "    letter = entry[2]\n",
    "    password = entry[3]\n",
    "\n",
    "    first_slot = password[first_position - 1]\n",
    "    second_slot = password[second_position -1]\n",
    "\n",
    "    if letter == first_slot and letter != second_slot:\n",
    "        valid_passwords_2 += 1\n",
    "    elif letter == second_slot and letter != first_slot:\n",
    "        valid_passwords_2 += 1\n",
    "\n",
    "    print(first_slot, second_slot, valid_passwords_2)"
   ]
  },
  {
   "source": [
    "### Part 2 solve..."
   ],
   "cell_type": "markdown",
   "metadata": {}
  },
  {
   "cell_type": "code",
   "execution_count": 34,
   "metadata": {},
   "outputs": [
    {
     "output_type": "stream",
     "name": "stdout",
     "text": [
      "267\n"
     ]
    }
   ],
   "source": [
    "# ['1', '3', 'a', 'abcde']\n",
    "\n",
    "valid_passwords_2 = 0\n",
    "\n",
    "for entry in inputs:\n",
    "    first_position = entry[0]\n",
    "    second_position = entry[1]\n",
    "    letter = entry[2]\n",
    "    password = entry[3]\n",
    "\n",
    "    first_slot = password[int(first_position) - 1]\n",
    "    second_slot = password[int(second_position) -1]\n",
    "\n",
    "    if (letter == first_slot and letter != second_slot) or (letter == second_slot and letter != first_slot):\n",
    "        valid_passwords_2 += 1\n",
    "\n",
    "print(valid_passwords_2)"
   ]
  }
 ]
}
